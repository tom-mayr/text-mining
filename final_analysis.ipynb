{
 "cells": [
  {
   "cell_type": "markdown",
   "metadata": {},
   "source": [
    "# Aspect-Based Sentiment Analysis - Movie Reviews"
   ]
  },
  {
   "cell_type": "markdown",
   "metadata": {
    "vscode": {
     "languageId": "plaintext"
    }
   },
   "source": [
    "This project is a demonstration of aspect-based sentiment analysis (ABSA), specifically we analyze a dataset of movie reviews from the popular movie review website Letterboxd. The goal is to find a way to reliably detect a set of aspects that are assumed to be of importance when it comes to forming an opinion about a film and then associate polarities with these aspects.\n",
    "\n",
    "Since there are well-known aspects in the art of film making that regularly come up in reviews or award shows, we don't try to extract aspects with unsupervised machine learning, but rather try to build a robust vocubalary for each pre-defined aspect that ideally covers synonyms and words related to this concept. Here the goal is to balance this keyword vocubalary so we don't over-generalize while still picking up all relevant mentions of the aspect.\n",
    "\n",
    "This vocabulary is then used in conjunction with SpaCy and VADER to extract associated sentiments and analyze sentiment polarities."
   ]
  },
  {
   "cell_type": "markdown",
   "metadata": {},
   "source": [
    "## Data"
   ]
  },
  {
   "cell_type": "code",
   "execution_count": 219,
   "metadata": {},
   "outputs": [],
   "source": [
    "import pandas as pd\n",
    "\n",
    "# Read CSV data\n",
    "df = pd.read_csv('letterboxd_250movie_reviews.csv').dropna()\n",
    "\n",
    "# List of reviews\n",
    "reviews = list(df['Review'])"
   ]
  },
  {
   "cell_type": "markdown",
   "metadata": {},
   "source": [
    "## Aspect Detection"
   ]
  },
  {
   "cell_type": "markdown",
   "metadata": {},
   "source": [
    "### WordNet (approach not used in final analysis)"
   ]
  },
  {
   "cell_type": "code",
   "execution_count": 220,
   "metadata": {},
   "outputs": [
    {
     "name": "stderr",
     "output_type": "stream",
     "text": [
      "[nltk_data] Downloading package wordnet to\n",
      "[nltk_data]     /Users/thomasmayr/nltk_data...\n",
      "[nltk_data]   Package wordnet is already up-to-date!\n",
      "[nltk_data] Downloading package omw-1.4 to\n",
      "[nltk_data]     /Users/thomasmayr/nltk_data...\n",
      "[nltk_data]   Package omw-1.4 is already up-to-date!\n"
     ]
    }
   ],
   "source": [
    "import nltk\n",
    "nltk.download('wordnet')\n",
    "nltk.download('omw-1.4')  # For the extended WordNet data\n",
    "from nltk.corpus import wordnet as wn"
   ]
  },
  {
   "cell_type": "code",
   "execution_count": 221,
   "metadata": {},
   "outputs": [],
   "source": [
    "# Define aspects\n",
    "aspects = ['directing', 'music', 'story', 'acting', 'cinematography']"
   ]
  },
  {
   "cell_type": "markdown",
   "metadata": {},
   "source": [
    "The code for the approach is only a part of what was tested using WordNet. Specifically, in the testing phase, various variations of the code below were considered, e.g. using all the synsets of an aspect label rather than only the most fitting one, using differenct combinations of semantic concepts, trying to filter words with WordNet's built in similarity measures and more. None of these approaches were particularly effective, therefore only the parts below were included here in the final report for demonstration purposes."
   ]
  },
  {
   "cell_type": "code",
   "execution_count": 222,
   "metadata": {},
   "outputs": [
    {
     "name": "stdout",
     "output_type": "stream",
     "text": [
      "Aspect:  directing\n",
      "\n",
      "Synset name:   direct.v.01\n",
      "Lemma names:   ['direct']\n",
      "Definition:    command with authority\n",
      "Examples:      ['He directed the children to do their homework']\n",
      "------------------------------------------------------------\n",
      "Synset name:   target.v.01\n",
      "Lemma names:   ['target', 'aim', 'place', 'direct', 'point']\n",
      "Definition:    intend (something) to move towards a certain goal\n",
      "Examples:      [\"He aimed his fists towards his opponent's face\", 'criticism directed at her superior', 'direct your anger towards others, not towards yourself']\n",
      "------------------------------------------------------------\n",
      "Synset name:   direct.v.03\n",
      "Lemma names:   ['direct']\n",
      "Definition:    guide the actors in (plays and films)\n",
      "Examples:      []\n",
      "------------------------------------------------------------\n",
      "Synset name:   direct.v.04\n",
      "Lemma names:   ['direct']\n",
      "Definition:    be in charge of\n",
      "Examples:      []\n",
      "------------------------------------------------------------\n",
      "Synset name:   lead.v.01\n",
      "Lemma names:   ['lead', 'take', 'direct', 'conduct', 'guide']\n",
      "Definition:    take somebody somewhere\n",
      "Examples:      ['We lead him to our chief', 'can you take me to the main entrance?', 'He conducted us to the palace']\n",
      "------------------------------------------------------------\n",
      "Synset name:   send.v.01\n",
      "Lemma names:   ['send', 'direct']\n",
      "Definition:    cause to go somewhere\n",
      "Examples:      ['The explosion sent the car flying in the air', 'She sent her children to camp', 'He directed all his energies into his dissertation']\n",
      "------------------------------------------------------------\n",
      "Synset name:   aim.v.01\n",
      "Lemma names:   ['aim', 'take', 'train', 'take_aim', 'direct']\n",
      "Definition:    point or cause to go (blows, weapons, or objects such as photographic equipment) towards\n",
      "Examples:      [\"Please don't aim at your little brother!\", 'He trained his gun on the burglar', \"Don't train your camera on the women\", \"Take a swipe at one's opponent\"]\n",
      "------------------------------------------------------------\n",
      "Synset name:   conduct.v.02\n",
      "Lemma names:   ['conduct', 'lead', 'direct']\n",
      "Definition:    lead, as in the performance of a composition\n",
      "Examples:      ['conduct an orchestra; Barenboim conducted the Chicago symphony for years']\n",
      "------------------------------------------------------------\n",
      "Synset name:   direct.v.09\n",
      "Lemma names:   ['direct']\n",
      "Definition:    give directions to; point somebody into a certain direction\n",
      "Examples:      ['I directed them towards the town hall']\n",
      "------------------------------------------------------------\n",
      "Synset name:   calculate.v.05\n",
      "Lemma names:   ['calculate', 'aim', 'direct']\n",
      "Definition:    specifically design a product, event, or activity for a certain public\n",
      "Examples:      []\n",
      "------------------------------------------------------------\n",
      "Synset name:   steer.v.01\n",
      "Lemma names:   ['steer', 'maneuver', 'manoeuver', 'manoeuvre', 'direct', 'point', 'head', 'guide', 'channelize', 'channelise']\n",
      "Definition:    direct the course; determine the direction of travelling\n",
      "Examples:      []\n",
      "------------------------------------------------------------\n",
      "Synset name:   address.v.03\n",
      "Lemma names:   ['address', 'direct']\n",
      "Definition:    put an address on (an envelope)\n",
      "Examples:      []\n",
      "------------------------------------------------------------\n",
      "Synset name:   mastermind.v.01\n",
      "Lemma names:   ['mastermind', 'engineer', 'direct', 'organize', 'organise', 'orchestrate']\n",
      "Definition:    plan and direct (a complex undertaking)\n",
      "Examples:      ['he masterminded the robbery']\n",
      "------------------------------------------------------------\n",
      "Synset name:   directing.s.01\n",
      "Lemma names:   ['directing', 'directional', 'directive', 'guiding']\n",
      "Definition:    showing the way by conducting or leading; imposing direction on\n",
      "Examples:      [\"felt his mother's directing arm around him\", 'the directional role of science on industrial progress']\n",
      "------------------------------------------------------------\n",
      "\n",
      "Aspect:  music\n",
      "\n",
      "Synset name:   music.n.01\n",
      "Lemma names:   ['music']\n",
      "Definition:    an artistic form of auditory communication incorporating instrumental or vocal tones in a structured and continuous manner\n",
      "Examples:      []\n",
      "------------------------------------------------------------\n",
      "Synset name:   music.n.02\n",
      "Lemma names:   ['music', 'euphony']\n",
      "Definition:    any agreeable (pleasing and harmonious) sounds\n",
      "Examples:      ['he fell asleep to the music of the wind chimes']\n",
      "------------------------------------------------------------\n",
      "Synset name:   music.n.03\n",
      "Lemma names:   ['music']\n",
      "Definition:    musical activity (singing or whistling etc.)\n",
      "Examples:      ['his music was his central interest']\n",
      "------------------------------------------------------------\n",
      "Synset name:   music.n.04\n",
      "Lemma names:   ['music']\n",
      "Definition:    (music) the sounds produced by singers or musical instruments (or reproductions of such sounds)\n",
      "Examples:      []\n",
      "------------------------------------------------------------\n",
      "Synset name:   music.n.05\n",
      "Lemma names:   ['music', 'medicine']\n",
      "Definition:    punishment for one's actions\n",
      "Examples:      ['you have to face the music', 'take your medicine']\n",
      "------------------------------------------------------------\n",
      "\n",
      "Aspect:  story\n",
      "\n",
      "Synset name:   narrative.n.01\n",
      "Lemma names:   ['narrative', 'narration', 'story', 'tale']\n",
      "Definition:    a message that tells the particulars of an act or occurrence or course of events; presented in writing or drama or cinema or as a radio or television program\n",
      "Examples:      ['his narrative was interesting', \"Disney's stories entertain adults as well as children\"]\n",
      "------------------------------------------------------------\n",
      "Synset name:   story.n.02\n",
      "Lemma names:   ['story']\n",
      "Definition:    a piece of fiction that narrates a chain of related events\n",
      "Examples:      ['he writes stories for the magazines']\n",
      "------------------------------------------------------------\n",
      "Synset name:   floor.n.02\n",
      "Lemma names:   ['floor', 'level', 'storey', 'story']\n",
      "Definition:    a structure consisting of a room or set of rooms at a single position along a vertical scale\n",
      "Examples:      ['what level is the office on?']\n",
      "------------------------------------------------------------\n",
      "Synset name:   history.n.02\n",
      "Lemma names:   ['history', 'account', 'chronicle', 'story']\n",
      "Definition:    a record or narrative description of past events\n",
      "Examples:      ['a history of France', 'he gave an inaccurate account of the plot to kill the president', 'the story of exposure to lead']\n",
      "------------------------------------------------------------\n",
      "Synset name:   report.n.03\n",
      "Lemma names:   ['report', 'news_report', 'story', 'account', 'write_up']\n",
      "Definition:    a short account of the news\n",
      "Examples:      ['the report of his speech', \"the story was on the 11 o'clock news\", 'the account of his speech that was given on the evening news made the governor furious']\n",
      "------------------------------------------------------------\n",
      "Synset name:   fib.n.01\n",
      "Lemma names:   ['fib', 'story', 'tale', 'tarradiddle', 'taradiddle']\n",
      "Definition:    a trivial lie\n",
      "Examples:      ['he told a fib about eating his spinach', 'how can I stop my child from telling stories?']\n",
      "------------------------------------------------------------\n",
      "\n",
      "Aspect:  acting\n",
      "\n",
      "Synset name:   acting.n.01\n",
      "Lemma names:   ['acting', 'playing', 'playacting', 'performing']\n",
      "Definition:    the performance of a part or role in a drama\n",
      "Examples:      []\n",
      "------------------------------------------------------------\n",
      "Synset name:   act.v.01\n",
      "Lemma names:   ['act', 'move']\n",
      "Definition:    perform an action, or work out or perform (an action)\n",
      "Examples:      ['think before you act', 'We must move quickly', 'The governor should act on the new energy bill', 'The nanny acted quickly by grabbing the toddler and covering him with a wet towel']\n",
      "------------------------------------------------------------\n",
      "Synset name:   act.v.02\n",
      "Lemma names:   ['act', 'behave', 'do']\n",
      "Definition:    behave in a certain manner; show a certain behavior; conduct or comport oneself\n",
      "Examples:      ['You should act like an adult', \"Don't behave like a fool\", 'What makes her do this way?', 'The dog acts ferocious, but he is really afraid of people']\n",
      "------------------------------------------------------------\n",
      "Synset name:   act.v.03\n",
      "Lemma names:   ['act', 'play', 'represent']\n",
      "Definition:    play a role or part\n",
      "Examples:      ['Gielgud played Hamlet', 'She wants to act Lady Macbeth, but she is too young for the role', \"She played the servant to her husband's master\"]\n",
      "------------------------------------------------------------\n",
      "Synset name:   act.v.04\n",
      "Lemma names:   ['act']\n",
      "Definition:    discharge one's duties\n",
      "Examples:      ['She acts as the chair', 'In what capacity are you acting?']\n",
      "------------------------------------------------------------\n",
      "Synset name:   act.v.05\n",
      "Lemma names:   ['act', 'play', 'act_as']\n",
      "Definition:    pretend to have certain qualities or state of mind\n",
      "Examples:      ['He acted the idiot', 'She plays deaf when the news are bad']\n",
      "------------------------------------------------------------\n",
      "Synset name:   act.v.06\n",
      "Lemma names:   ['act']\n",
      "Definition:    be suitable for theatrical performance\n",
      "Examples:      ['This scene acts well']\n",
      "------------------------------------------------------------\n",
      "Synset name:   work.v.03\n",
      "Lemma names:   ['work', 'act']\n",
      "Definition:    have an effect or outcome; often the one desired or expected\n",
      "Examples:      [\"The voting process doesn't work as well as people thought\", 'How does your idea work in practice?', \"This method doesn't work\", 'The breaks of my new car act quickly', 'The medicine works only if you take it with a lot of water']\n",
      "------------------------------------------------------------\n",
      "Synset name:   act.v.08\n",
      "Lemma names:   ['act']\n",
      "Definition:    be engaged in an activity, often for no particular purpose other than pleasure\n",
      "Examples:      []\n",
      "------------------------------------------------------------\n",
      "Synset name:   dissemble.v.03\n",
      "Lemma names:   ['dissemble', 'pretend', 'act']\n",
      "Definition:    behave unnaturally or affectedly\n",
      "Examples:      [\"She's just acting\"]\n",
      "------------------------------------------------------------\n",
      "Synset name:   act.v.10\n",
      "Lemma names:   ['act', 'play', 'roleplay', 'playact']\n",
      "Definition:    perform on a stage or theater\n",
      "Examples:      ['She acts in this play', \"He acted in `Julius Caesar'\", \"I played in `A Christmas Carol'\"]\n",
      "------------------------------------------------------------\n",
      "Synset name:   acting.s.01\n",
      "Lemma names:   ['acting']\n",
      "Definition:    serving temporarily especially as a substitute\n",
      "Examples:      ['the acting president']\n",
      "------------------------------------------------------------\n",
      "\n",
      "Aspect:  cinematography\n",
      "\n",
      "Synset name:   filming.n.01\n",
      "Lemma names:   ['filming', 'cinematography', 'motion-picture_photography']\n",
      "Definition:    the act of making a film\n",
      "Examples:      []\n",
      "------------------------------------------------------------\n",
      "\n"
     ]
    }
   ],
   "source": [
    "# Inspect each synset for each aspect in order to select appropriate synset\n",
    "for aspect in aspects:\n",
    "    synsets = wn.synsets(aspect)\n",
    "    print(\"Aspect: \", aspect)\n",
    "    print(\"\")\n",
    "    for syn in synsets:\n",
    "        print(\"Synset name:  \", syn.name())             # Unique identifier\n",
    "        print(\"Lemma names:  \", syn.lemma_names())      # List of synonymous words\n",
    "        print(\"Definition:   \", syn.definition())       # Dictionary definition\n",
    "        print(\"Examples:     \", syn.examples())         # Example usage\n",
    "        print(\"-\" * 60)\n",
    "    print(\"\")"
   ]
  },
  {
   "cell_type": "code",
   "execution_count": null,
   "metadata": {},
   "outputs": [],
   "source": [
    "# Example aspects and respective synset for film reviews:\n",
    "aspects_synsets = {\n",
    "    \"directing\": \"direct.v.03\",\n",
    "    \"music\": \"music.n.01\",\n",
    "    \"screenplay\": \"screenplay.n.01\",\n",
    "    \"acting\": \"acting.n.01\",\n",
    "    \"cinematography\": \"filming.n.01\"\n",
    "}"
   ]
  },
  {
   "cell_type": "code",
   "execution_count": 230,
   "metadata": {},
   "outputs": [],
   "source": [
    "def get_related_words_to_synset(synset_name, pos=None):\n",
    "    synset = wn.synset(synset_name, pos=pos) if pos else wn.synset(synset_name)\n",
    "    results = set()\n",
    "    # Add various related words using semantic concepts\n",
    "    for lemma in synset.lemmas():\n",
    "        results.add(lemma.name().lower())\n",
    "\n",
    "    for hypernym in synset.hypernyms():\n",
    "        for lemma in hypernym.lemmas():\n",
    "            results.add(lemma.name().lower())\n",
    "\n",
    "    for hyponym in synset.hyponyms():\n",
    "        for lemma in hyponym.lemmas():\n",
    "            results.add(lemma.name().lower())\n",
    "\n",
    "    for part_meronyms in synset.part_meronyms():\n",
    "        for lemma in part_meronyms.lemmas():\n",
    "            results.add(lemma.name().lower())\n",
    "    \n",
    "    for substance_meronym in synset.substance_meronyms():\n",
    "        for lemma in substance_meronym.lemmas():\n",
    "            results.add(lemma.name().lower())\n",
    "\n",
    "    for member_holonym in synset.member_holonyms():\n",
    "        for lemma in member_holonym.lemmas():\n",
    "            results.add(lemma.name().lower())\n",
    "\n",
    "    return results\n"
   ]
  },
  {
   "cell_type": "code",
   "execution_count": 231,
   "metadata": {},
   "outputs": [],
   "source": [
    "aspect_related_words = {}\n",
    "for aspect, synset in aspects_synsets.items():\n",
    "    aspect_related_words[aspect] = get_related_words_to_synset(synset)"
   ]
  },
  {
   "cell_type": "code",
   "execution_count": 232,
   "metadata": {},
   "outputs": [
    {
     "name": "stdout",
     "output_type": "stream",
     "text": [
      "{'directing': {'make', 'direct', 'create', 'stage_direct'}, 'music': {'concerted_music', 'beethoven', 'polyphonic_music', 'strain', 'harmony', 'gilbert_and_sullivan', 'line', 'music', 'melodic_phrase', 'handel', 'chopin', 'dance_music', 'haydn', 'music_genre', 'refrain', 'instrumental_music', 'polyphony', 'polytonalism', 'monophony', 'popularism', 'composition', \"ta'ziyeh\", 'wagner', 'auditory_communication', 'tune', 'chorus', 'musical_style', 'musical_composition', 'air', 'melodic_line', 'syncopation', 'serial_music', 'bach', 'ballet', 'musical_harmony', 'pizzicato', 'brahms', 'monody', 'antiphony', 'polytonality', 'prelude', 'genre', 'mozart', 'piece', 'musical_genre', 'piece_of_music', 'monophonic_music', 'overture', 'vocal', 'vocal_music', 'opus', 'section', 'subdivision', 'serialism', 'part_music', 'stravinsky', 'melody'}, 'screenplay': {'book', 'playscript', 'screenplay', 'script'}, 'acting': {'portrayal', 'playacting', 'method_acting', 'business', 'byplay', 'performing_arts', 'method', 'roleplaying', 'playing', 'personation', 'dumb_show', 'hamming', 'mime', 'reenactment', 'enactment', 'impersonation', 'performing', 'acting', 'activity', 'heroics', 'overacting', 'characterization', 'pantomime', 'stage_business', 'skit'}, 'cinematography': {'photography', 'filming', 'take', 'picture_taking', 'cinematography', 'motion-picture_photography', 'animation'}}\n"
     ]
    }
   ],
   "source": [
    "print(aspect_related_words)"
   ]
  },
  {
   "cell_type": "markdown",
   "metadata": {},
   "source": [
    "### Word2Vec"
   ]
  },
  {
   "cell_type": "code",
   "execution_count": null,
   "metadata": {},
   "outputs": [],
   "source": [
    "from gensim.utils import simple_preprocess\n",
    "\n",
    "# Tokenize (simple)\n",
    "tokenized_reviews = [simple_preprocess(review) for review in reviews]"
   ]
  },
  {
   "cell_type": "code",
   "execution_count": null,
   "metadata": {},
   "outputs": [],
   "source": [
    "from gensim.models import Word2Vec\n",
    "\n",
    "# Train a Word2Vec model\n",
    "model = Word2Vec(\n",
    "    tokenized_reviews,\n",
    "    vector_size=150,\n",
    "    window=5,\n",
    "    min_count=10,\n",
    "    workers=8\n",
    ")"
   ]
  },
  {
   "cell_type": "code",
   "execution_count": 239,
   "metadata": {},
   "outputs": [
    {
     "name": "stdout",
     "output_type": "stream",
     "text": [
      "Related to 'cinematography':\n",
      "  camerawork: 0.8307797312736511\n",
      "  photography: 0.817209005355835\n",
      "  visuals: 0.8078704476356506\n",
      "  editing: 0.7470242977142334\n",
      "  soundtrack: 0.7440069317817688\n",
      "  animation: 0.7334676384925842\n",
      "  direction: 0.7309778928756714\n",
      "  scenery: 0.7044476866722107\n",
      "  choreography: 0.6982153058052063\n",
      "  lighting: 0.6926029920578003\n",
      "  score: 0.6875585913658142\n",
      "  costumes: 0.685419499874115\n",
      "  design: 0.6833809018135071\n",
      "  framing: 0.6731663942337036\n",
      "  screenplay: 0.6638196706771851\n",
      "  composition: 0.6605755090713501\n",
      "  staging: 0.6566556096076965\n",
      "  acting: 0.6463869214057922\n",
      "  imagery: 0.6408823132514954\n",
      "  script: 0.6406824588775635\n"
     ]
    }
   ],
   "source": [
    "# Let's try to see if we can build a useful vocab with this method using some of the most similar (cosine similarity) for each aspect\n",
    "\n",
    "# Query for words similar to \"cinematography\"\n",
    "similar_to_cinematography = model.wv.most_similar(\"cinematography\", topn=20)\n",
    "print(\"Related to 'cinematography':\")\n",
    "for word, score in similar_to_cinematography:\n",
    "    print(f\"  {word}: {score}\")"
   ]
  },
  {
   "cell_type": "markdown",
   "metadata": {},
   "source": [
    "#### Pruning candidates and building vocabularies\n",
    "\n",
    "This method seems to capture a decent amount of words for an aspect but results can't be used directly since some words most similar to each aspect are too general or not appropriate.\n",
    "\n",
    "We sort candidates by how frequently they appear in all reviews and manually select a set of candidiates for each aspect."
   ]
  },
  {
   "cell_type": "code",
   "execution_count": 33,
   "metadata": {},
   "outputs": [],
   "source": [
    "all_tokens = [item for sublist in tokenized_reviews for item in sublist]"
   ]
  },
  {
   "cell_type": "code",
   "execution_count": 34,
   "metadata": {},
   "outputs": [],
   "source": [
    "from collections import Counter\n",
    "token_counts = Counter(all_tokens)"
   ]
  },
  {
   "cell_type": "code",
   "execution_count": 49,
   "metadata": {},
   "outputs": [
    {
     "name": "stdout",
     "output_type": "stream",
     "text": [
      "Related to 'cinematography':\n"
     ]
    },
    {
     "data": {
      "text/plain": [
       "{'acting': {'count': 5427, 'similarity': 0.6463869214057922},\n",
       " 'score': {'count': 5365, 'similarity': 0.6875585913658142},\n",
       " 'direction': {'count': 3718, 'similarity': 0.7309778928756714},\n",
       " 'script': {'count': 2804, 'similarity': 0.6406824588775635},\n",
       " 'editing': {'count': 2742, 'similarity': 0.7470242977142334},\n",
       " 'design': {'count': 2593, 'similarity': 0.6833809018135071},\n",
       " 'animation': {'count': 2301, 'similarity': 0.7334676384925842},\n",
       " 'gorgeous': {'count': 2031, 'similarity': 0.6309126615524292},\n",
       " 'screenplay': {'count': 2010, 'similarity': 0.6638196706771851},\n",
       " 'visuals': {'count': 1809, 'similarity': 0.8078704476356506},\n",
       " 'soundtrack': {'count': 1672, 'similarity': 0.7440069317817688},\n",
       " 'visually': {'count': 1640, 'similarity': 0.6327150464057922},\n",
       " 'imagery': {'count': 1345, 'similarity': 0.6408823132514954},\n",
       " 'breathtaking': {'count': 1118, 'similarity': 0.6260013580322266},\n",
       " 'lighting': {'count': 1102, 'similarity': 0.6926029920578003},\n",
       " 'camerawork': {'count': 962, 'similarity': 0.8307797312736511},\n",
       " 'framing': {'count': 879, 'similarity': 0.6731663942337036},\n",
       " 'photography': {'count': 701, 'similarity': 0.817209005355835},\n",
       " 'composition': {'count': 645, 'similarity': 0.6605755090713501},\n",
       " 'costumes': {'count': 501, 'similarity': 0.685419499874115},\n",
       " 'compositions': {'count': 442, 'similarity': 0.6356160044670105},\n",
       " 'blocking': {'count': 434, 'similarity': 0.6292888522148132},\n",
       " 'staging': {'count': 337, 'similarity': 0.6566556096076965},\n",
       " 'scenery': {'count': 329, 'similarity': 0.7044476866722107},\n",
       " 'choreography': {'count': 297, 'similarity': 0.6982153058052063}}"
      ]
     },
     "execution_count": 49,
     "metadata": {},
     "output_type": "execute_result"
    }
   ],
   "source": [
    "# Query for words similar to \"cinematography\"\n",
    "similar_to_cinematography = model.wv.most_similar(\"cinematography\", topn=25)\n",
    "print(\"Related to 'cinematography':\")\n",
    "cinematography_candidates = {}\n",
    "for word, score in similar_to_cinematography:\n",
    "    cinematography_candidates[word] = {'count': token_counts[word], 'similarity': score}\n",
    "    # print(f\"  {word} - count: {token_counts[word]}, similarity: {round(score, 2)}\")\n",
    "cinematography_candidates = dict(sorted(cinematography_candidates.items(), key=lambda x: x[1][\"count\"], reverse=True))\n",
    "cinematography_candidates"
   ]
  },
  {
   "cell_type": "code",
   "execution_count": 72,
   "metadata": {},
   "outputs": [],
   "source": [
    "vocab_cinematography = ['visuals', 'imagery', 'lighting', 'camerawork', 'framing', 'photography', 'composition', 'scenery', 'choreography']"
   ]
  },
  {
   "cell_type": "code",
   "execution_count": 55,
   "metadata": {},
   "outputs": [
    {
     "name": "stdout",
     "output_type": "stream",
     "text": [
      "Related to 'direction':\n"
     ]
    },
    {
     "data": {
      "text/plain": [
       "{'work': {'count': 12571, 'similarity': 0.57},\n",
       " 'performances': {'count': 7668, 'similarity': 0.59},\n",
       " 'cinematography': {'count': 6729, 'similarity': 0.73},\n",
       " 'acting': {'count': 5427, 'similarity': 0.71},\n",
       " 'score': {'count': 5365, 'similarity': 0.57},\n",
       " 'writing': {'count': 3202, 'similarity': 0.65},\n",
       " 'filmmaking': {'count': 3094, 'similarity': 0.6},\n",
       " 'script': {'count': 2804, 'similarity': 0.7},\n",
       " 'editing': {'count': 2742, 'similarity': 0.68},\n",
       " 'design': {'count': 2593, 'similarity': 0.55},\n",
       " 'storytelling': {'count': 2532, 'similarity': 0.63},\n",
       " 'pacing': {'count': 2087, 'similarity': 0.56},\n",
       " 'screenplay': {'count': 2010, 'similarity': 0.71},\n",
       " 'visuals': {'count': 1809, 'similarity': 0.59},\n",
       " 'directing': {'count': 1231, 'similarity': 0.74},\n",
       " 'craft': {'count': 1041, 'similarity': 0.58},\n",
       " 'camerawork': {'count': 962, 'similarity': 0.68},\n",
       " 'framing': {'count': 879, 'similarity': 0.58},\n",
       " 'execution': {'count': 797, 'similarity': 0.6},\n",
       " 'photography': {'count': 701, 'similarity': 0.58},\n",
       " 'impeccable': {'count': 596, 'similarity': 0.56},\n",
       " 'blocking': {'count': 434, 'similarity': 0.56},\n",
       " 'skill': {'count': 398, 'similarity': 0.55},\n",
       " 'staging': {'count': 337, 'similarity': 0.62},\n",
       " 'craftsmanship': {'count': 249, 'similarity': 0.59}}"
      ]
     },
     "execution_count": 55,
     "metadata": {},
     "output_type": "execute_result"
    }
   ],
   "source": [
    "aspect = \"direction\"\n",
    "similar_words = model.wv.most_similar(aspect, topn=25)\n",
    "print(f\"Related to '{aspect}':\")\n",
    "candidates = {}\n",
    "for word, score in similar_words:\n",
    "    candidates[word] = {'count': token_counts[word], 'similarity': round(score, 2)}\n",
    "candidates = dict(sorted(candidates.items(), key=lambda x: x[1][\"count\"], reverse=True))\n",
    "candidates"
   ]
  },
  {
   "cell_type": "code",
   "execution_count": 73,
   "metadata": {},
   "outputs": [],
   "source": [
    "vocab_direction = ['filmmaking', 'directing']\n",
    "manual_additions = ['director', 'filmmaker']\n",
    "vocab_direction.extend(manual_additions)"
   ]
  },
  {
   "cell_type": "code",
   "execution_count": 60,
   "metadata": {},
   "outputs": [
    {
     "name": "stdout",
     "output_type": "stream",
     "text": [
      "Related to 'music':\n"
     ]
    },
    {
     "data": {
      "text/plain": [
       "{'cinematography': {'count': 6729, 'similarity': 0.6},\n",
       " 'score': {'count': 5365, 'similarity': 0.76},\n",
       " 'dialogue': {'count': 4476, 'similarity': 0.58},\n",
       " 'sound': {'count': 3732, 'similarity': 0.56},\n",
       " 'editing': {'count': 2742, 'similarity': 0.62},\n",
       " 'animation': {'count': 2301, 'similarity': 0.58},\n",
       " 'visuals': {'count': 1809, 'similarity': 0.52},\n",
       " 'soundtrack': {'count': 1672, 'similarity': 0.79},\n",
       " 'song': {'count': 1424, 'similarity': 0.6},\n",
       " 'musical': {'count': 1301, 'similarity': 0.66},\n",
       " 'background': {'count': 1254, 'similarity': 0.57},\n",
       " 'lighting': {'count': 1102, 'similarity': 0.61},\n",
       " 'colors': {'count': 971, 'similarity': 0.52},\n",
       " 'camerawork': {'count': 962, 'similarity': 0.59},\n",
       " 'framing': {'count': 879, 'similarity': 0.53},\n",
       " 'photography': {'count': 701, 'similarity': 0.55},\n",
       " 'narration': {'count': 560, 'similarity': 0.59},\n",
       " 'songs': {'count': 494, 'similarity': 0.62},\n",
       " 'piano': {'count': 447, 'similarity': 0.57},\n",
       " 'blocking': {'count': 434, 'similarity': 0.52},\n",
       " 'classical': {'count': 401, 'similarity': 0.57},\n",
       " 'rhythm': {'count': 372, 'similarity': 0.55},\n",
       " 'scenery': {'count': 329, 'similarity': 0.57},\n",
       " 'choreography': {'count': 297, 'similarity': 0.6},\n",
       " 'shankar': {'count': 76, 'similarity': 0.55}}"
      ]
     },
     "execution_count": 60,
     "metadata": {},
     "output_type": "execute_result"
    }
   ],
   "source": [
    "aspect = \"music\"\n",
    "similar_words = model.wv.most_similar(aspect, topn=25)\n",
    "print(f\"Related to '{aspect}':\")\n",
    "candidates = {}\n",
    "for word, score in similar_words:\n",
    "    candidates[word] = {'count': token_counts[word], 'similarity': round(score, 2)}\n",
    "candidates = dict(sorted(candidates.items(), key=lambda x: x[1][\"count\"], reverse=True))\n",
    "candidates"
   ]
  },
  {
   "cell_type": "code",
   "execution_count": 74,
   "metadata": {},
   "outputs": [],
   "source": [
    "vocab_music = ['score', 'sound', 'soundtrack', 'song', 'musical', 'songs', 'piano']"
   ]
  },
  {
   "cell_type": "code",
   "execution_count": 63,
   "metadata": {},
   "outputs": [
    {
     "name": "stdout",
     "output_type": "stream",
     "text": [
      "Related to 'acting':\n"
     ]
    },
    {
     "data": {
      "text/plain": [
       "{'performance': {'count': 8338, 'similarity': 0.64},\n",
       " 'performances': {'count': 7668, 'similarity': 0.74},\n",
       " 'cinematography': {'count': 6729, 'similarity': 0.65},\n",
       " 'dialogue': {'count': 4476, 'similarity': 0.55},\n",
       " 'cast': {'count': 4337, 'similarity': 0.61},\n",
       " 'direction': {'count': 3718, 'similarity': 0.71},\n",
       " 'actors': {'count': 3676, 'similarity': 0.57},\n",
       " 'writing': {'count': 3202, 'similarity': 0.65},\n",
       " 'filmmaking': {'count': 3094, 'similarity': 0.54},\n",
       " 'script': {'count': 2804, 'similarity': 0.62},\n",
       " 'editing': {'count': 2742, 'similarity': 0.62},\n",
       " 'excellent': {'count': 2614, 'similarity': 0.53},\n",
       " 'animation': {'count': 2301, 'similarity': 0.54},\n",
       " 'pacing': {'count': 2087, 'similarity': 0.53},\n",
       " 'screenplay': {'count': 2010, 'similarity': 0.63},\n",
       " 'visuals': {'count': 1809, 'similarity': 0.53},\n",
       " 'phenomenal': {'count': 1793, 'similarity': 0.55},\n",
       " 'directing': {'count': 1231, 'similarity': 0.7},\n",
       " 'camerawork': {'count': 962, 'similarity': 0.57},\n",
       " 'chemistry': {'count': 867, 'similarity': 0.53},\n",
       " 'superb': {'count': 843, 'similarity': 0.56},\n",
       " 'terrific': {'count': 766, 'similarity': 0.53},\n",
       " 'dialogues': {'count': 593, 'similarity': 0.53},\n",
       " 'ensemble': {'count': 579, 'similarity': 0.54},\n",
       " 'casting': {'count': 556, 'similarity': 0.58}}"
      ]
     },
     "execution_count": 63,
     "metadata": {},
     "output_type": "execute_result"
    }
   ],
   "source": [
    "aspect = \"acting\"\n",
    "similar_words = model.wv.most_similar(aspect, topn=25)\n",
    "print(f\"Related to '{aspect}':\")\n",
    "candidates = {}\n",
    "for word, score in similar_words:\n",
    "    candidates[word] = {'count': token_counts[word], 'similarity': round(score, 2)}\n",
    "candidates = dict(sorted(candidates.items(), key=lambda x: x[1][\"count\"], reverse=True))\n",
    "candidates"
   ]
  },
  {
   "cell_type": "code",
   "execution_count": 75,
   "metadata": {},
   "outputs": [],
   "source": [
    "vocab_acting = ['performance', 'performances', 'cast', 'actors', 'chemistry', 'ensemble', 'casting']\n",
    "manual_additions = ['actor', 'actress', 'performer']\n",
    "vocab_acting.extend(manual_additions)"
   ]
  },
  {
   "cell_type": "code",
   "execution_count": 69,
   "metadata": {},
   "outputs": [
    {
     "name": "stdout",
     "output_type": "stream",
     "text": [
      "Related to 'plot':\n"
     ]
    },
    {
     "data": {
      "text/plain": [
       "{'story': {'count': 23534, 'similarity': 0.74},\n",
       " 'narrative': {'count': 5256, 'similarity': 0.78},\n",
       " 'dialogue': {'count': 4476, 'similarity': 0.61},\n",
       " 'script': {'count': 2804, 'similarity': 0.58},\n",
       " 'storytelling': {'count': 2532, 'similarity': 0.5},\n",
       " 'pacing': {'count': 2087, 'similarity': 0.53},\n",
       " 'series': {'count': 2023, 'similarity': 0.47},\n",
       " 'screenplay': {'count': 2010, 'similarity': 0.51},\n",
       " 'structure': {'count': 1595, 'similarity': 0.55},\n",
       " 'engaging': {'count': 1437, 'similarity': 0.49},\n",
       " 'mystery': {'count': 1427, 'similarity': 0.59},\n",
       " 'concept': {'count': 1356, 'similarity': 0.5},\n",
       " 'pace': {'count': 1212, 'similarity': 0.47},\n",
       " 'twist': {'count': 1023, 'similarity': 0.47},\n",
       " 'premise': {'count': 843, 'similarity': 0.73},\n",
       " 'melodrama': {'count': 795, 'similarity': 0.48},\n",
       " 'thematic': {'count': 783, 'similarity': 0.49},\n",
       " 'intriguing': {'count': 750, 'similarity': 0.47},\n",
       " 'narration': {'count': 560, 'similarity': 0.54},\n",
       " 'storyline': {'count': 555, 'similarity': 0.77},\n",
       " 'exposition': {'count': 382, 'similarity': 0.59},\n",
       " 'setup': {'count': 251, 'similarity': 0.57},\n",
       " 'plots': {'count': 202, 'similarity': 0.5},\n",
       " 'plotting': {'count': 178, 'similarity': 0.55},\n",
       " 'plotline': {'count': 71, 'similarity': 0.49}}"
      ]
     },
     "execution_count": 69,
     "metadata": {},
     "output_type": "execute_result"
    }
   ],
   "source": [
    "aspect = \"plot\"\n",
    "similar_words = model.wv.most_similar(aspect, topn=25)\n",
    "print(f\"Related to '{aspect}':\")\n",
    "candidates = {}\n",
    "for word, score in similar_words:\n",
    "    candidates[word] = {'count': token_counts[word], 'similarity': round(score, 2)}\n",
    "candidates = dict(sorted(candidates.items(), key=lambda x: x[1][\"count\"], reverse=True))\n",
    "candidates"
   ]
  },
  {
   "cell_type": "code",
   "execution_count": 76,
   "metadata": {},
   "outputs": [],
   "source": [
    "vocab_story = ['narrative', 'plot', 'script', 'storytelling', 'screenplay', 'storyline']\n",
    "manual_additions = ['dialogue', 'writing', 'dialogues', 'narration', 'plotline']\n",
    "vocab_story.extend(manual_additions)"
   ]
  },
  {
   "cell_type": "markdown",
   "metadata": {},
   "source": [
    "### Final Vocabulary"
   ]
  },
  {
   "cell_type": "code",
   "execution_count": 158,
   "metadata": {},
   "outputs": [],
   "source": [
    "vocab = {\n",
    "    'direction': vocab_direction,\n",
    "    'story': vocab_story,\n",
    "    'acting': vocab_acting,\n",
    "    'cinematography': vocab_cinematography,\n",
    "    'music': vocab_music\n",
    "}\n",
    "\n",
    "# Adding the aspect label to the vocab of itself\n",
    "for (aspect_label, keywords) in vocab.items():\n",
    "    keywords.append(aspect_label)"
   ]
  },
  {
   "cell_type": "markdown",
   "metadata": {},
   "source": [
    "### Evaluation and comparison of internal coherence of final vocabularies\n",
    "\n",
    "We would like some measures to evaluate and compare the interal coherence and consistency of our vocabularies."
   ]
  },
  {
   "cell_type": "code",
   "execution_count": null,
   "metadata": {},
   "outputs": [
    {
     "name": "stdout",
     "output_type": "stream",
     "text": [
      "direction: 0.526\n",
      "story: 0.529\n",
      "acting: 0.512\n",
      "cinematography: 0.718\n",
      "music: 0.532\n"
     ]
    }
   ],
   "source": [
    "# A function for getting the average cosine similarities between words in a vocabulary\n",
    "def compute_average_similarity(vocabulary, model):\n",
    "    similarities = []\n",
    "    for i, word1 in enumerate(vocabulary):\n",
    "        for word2 in vocabulary[i + 1:]:\n",
    "            if word1 in model.wv.key_to_index and word2 in model.wv.key_to_index:\n",
    "                similarity = model.wv.similarity(word1, word2)\n",
    "                similarities.append(similarity)\n",
    "    return sum(similarities) / len(similarities) if similarities else None\n",
    "\n",
    "for (aspect_label, words) in vocab.items():\n",
    "\n",
    "    print(f'{aspect_label}: {round(compute_average_similarity(words, model), 3)}')"
   ]
  },
  {
   "cell_type": "markdown",
   "metadata": {},
   "source": [
    "### Visualisations for vocabularies"
   ]
  },
  {
   "cell_type": "code",
   "execution_count": 172,
   "metadata": {},
   "outputs": [
    {
     "name": "stdout",
     "output_type": "stream",
     "text": [
      "{'direction': {'filmmaking': 3094, 'directing': 1231, 'director': 7047, 'filmmaker': 1772, 'direction': 3718}, 'story': {'narrative': 5256, 'plot': 5241, 'script': 2804, 'storytelling': 2532, 'screenplay': 2010, 'storyline': 555, 'dialogue': 4476, 'writing': 3202, 'dialogues': 593, 'narration': 560, 'plotline': 71, 'story': 23534}, 'acting': {'performance': 8338, 'performances': 7668, 'cast': 4337, 'actors': 3676, 'chemistry': 867, 'ensemble': 579, 'casting': 556, 'actor': 3066, 'actress': 1355, 'performer': 173, 'acting': 5427}, 'cinematography': {'visuals': 1809, 'imagery': 1345, 'lighting': 1102, 'camerawork': 962, 'framing': 879, 'photography': 701, 'composition': 645, 'scenery': 329, 'choreography': 297, 'cinematography': 6729}, 'music': {'score': 5365, 'sound': 3732, 'soundtrack': 1672, 'song': 1424, 'musical': 1301, 'songs': 494, 'piano': 447, 'music': 5251}}\n"
     ]
    }
   ],
   "source": [
    "# Adding counts to our vocabs\n",
    "vocab_with_counts = vocab.copy()\n",
    "\n",
    "for aspect, aspect_vocab in vocab_with_counts.items():\n",
    "    vocab_with_counts[aspect] = {word: token_counts[word] for word in aspect_vocab}\n",
    "\n",
    "print(vocab_with_counts)"
   ]
  },
  {
   "cell_type": "code",
   "execution_count": null,
   "metadata": {},
   "outputs": [],
   "source": [
    "# Building the appropriate data frame for our visualisations\n",
    "rows = []\n",
    "for aspect, word_freqs in vocab_with_counts.items():\n",
    "    for word, frequency in word_freqs.items():\n",
    "        rows.append({'Aspect': aspect, 'Word': word, 'Frequency': frequency})\n",
    "\n",
    "df = pd.DataFrame(rows)"
   ]
  },
  {
   "cell_type": "code",
   "execution_count": 180,
   "metadata": {},
   "outputs": [
    {
     "data": {
      "application/vnd.plotly.v1+json": {
       "config": {
        "plotlyServerURL": "https://plot.ly"
       },
       "data": [
        {
         "branchvalues": "total",
         "customdata": [
          [
           "music"
          ],
          [
           "direction"
          ],
          [
           "direction"
          ],
          [
           "cinematography"
          ],
          [
           "music"
          ],
          [
           "story"
          ],
          [
           "story"
          ],
          [
           "acting"
          ],
          [
           "acting"
          ],
          [
           "cinematography"
          ],
          [
           "cinematography"
          ],
          [
           "music"
          ],
          [
           "story"
          ],
          [
           "story"
          ],
          [
           "cinematography"
          ],
          [
           "music"
          ],
          [
           "story"
          ],
          [
           "story"
          ],
          [
           "music"
          ],
          [
           "cinematography"
          ],
          [
           "acting"
          ],
          [
           "acting"
          ],
          [
           "acting"
          ],
          [
           "acting"
          ],
          [
           "acting"
          ],
          [
           "cinematography"
          ],
          [
           "cinematography"
          ],
          [
           "story"
          ],
          [
           "story"
          ],
          [
           "story"
          ],
          [
           "music"
          ],
          [
           "music"
          ],
          [
           "music"
          ],
          [
           "story"
          ],
          [
           "acting"
          ],
          [
           "acting"
          ],
          [
           "cinematography"
          ],
          [
           "cinematography"
          ],
          [
           "cinematography"
          ],
          [
           "story"
          ],
          [
           "story"
          ],
          [
           "direction"
          ],
          [
           "direction"
          ],
          [
           "direction"
          ],
          [
           "acting"
          ],
          [
           "acting"
          ],
          [
           "acting"
          ],
          [
           "cinematography"
          ],
          [
           "direction"
          ],
          [
           "music"
          ],
          [
           "story"
          ]
         ],
         "domain": {
          "x": [
           0,
           1
          ],
          "y": [
           0,
           1
          ]
         },
         "hovertemplate": "labels=%{label}<br>Frequency=%{value}<br>parent=%{parent}<br>id=%{id}<br>Aspect=%{customdata[0]}<extra></extra>",
         "ids": [
          "music/music",
          "direction/filmmaking",
          "direction/filmmaker",
          "cinematography/lighting",
          "music/musical",
          "story/narration",
          "story/narrative",
          "acting/performance",
          "acting/performances",
          "cinematography/framing",
          "cinematography/imagery",
          "music/piano",
          "story/plot",
          "story/plotline",
          "cinematography/scenery",
          "music/score",
          "story/screenplay",
          "story/script",
          "music/song",
          "cinematography/photography",
          "acting/performer",
          "acting/acting",
          "acting/actor",
          "acting/actors",
          "acting/actress",
          "cinematography/camerawork",
          "cinematography/visuals",
          "story/storytelling",
          "story/storyline",
          "story/story",
          "music/soundtrack",
          "music/sound",
          "music/songs",
          "story/writing",
          "acting/casting",
          "acting/chemistry",
          "cinematography/choreography",
          "cinematography/cinematography",
          "cinematography/composition",
          "story/dialogue",
          "story/dialogues",
          "direction/directing",
          "direction/direction",
          "direction/director",
          "acting/ensemble",
          "acting/cast",
          "acting",
          "cinematography",
          "direction",
          "music",
          "story"
         ],
         "labels": [
          "music",
          "filmmaking",
          "filmmaker",
          "lighting",
          "musical",
          "narration",
          "narrative",
          "performance",
          "performances",
          "framing",
          "imagery",
          "piano",
          "plot",
          "plotline",
          "scenery",
          "score",
          "screenplay",
          "script",
          "song",
          "photography",
          "performer",
          "acting",
          "actor",
          "actors",
          "actress",
          "camerawork",
          "visuals",
          "storytelling",
          "storyline",
          "story",
          "soundtrack",
          "sound",
          "songs",
          "writing",
          "casting",
          "chemistry",
          "choreography",
          "cinematography",
          "composition",
          "dialogue",
          "dialogues",
          "directing",
          "direction",
          "director",
          "ensemble",
          "cast",
          "acting",
          "cinematography",
          "direction",
          "music",
          "story"
         ],
         "marker": {
          "colors": [
           "#636efa",
           "#EF553B",
           "#EF553B",
           "#00cc96",
           "#636efa",
           "#ab63fa",
           "#ab63fa",
           "#FFA15A",
           "#FFA15A",
           "#00cc96",
           "#00cc96",
           "#636efa",
           "#ab63fa",
           "#ab63fa",
           "#00cc96",
           "#636efa",
           "#ab63fa",
           "#ab63fa",
           "#636efa",
           "#00cc96",
           "#FFA15A",
           "#FFA15A",
           "#FFA15A",
           "#FFA15A",
           "#FFA15A",
           "#00cc96",
           "#00cc96",
           "#ab63fa",
           "#ab63fa",
           "#ab63fa",
           "#636efa",
           "#636efa",
           "#636efa",
           "#ab63fa",
           "#FFA15A",
           "#FFA15A",
           "#00cc96",
           "#00cc96",
           "#00cc96",
           "#ab63fa",
           "#ab63fa",
           "#EF553B",
           "#EF553B",
           "#EF553B",
           "#FFA15A",
           "#FFA15A",
           "#FFA15A",
           "#00cc96",
           "#EF553B",
           "#636efa",
           "#ab63fa"
          ]
         },
         "name": "",
         "parents": [
          "music",
          "direction",
          "direction",
          "cinematography",
          "music",
          "story",
          "story",
          "acting",
          "acting",
          "cinematography",
          "cinematography",
          "music",
          "story",
          "story",
          "cinematography",
          "music",
          "story",
          "story",
          "music",
          "cinematography",
          "acting",
          "acting",
          "acting",
          "acting",
          "acting",
          "cinematography",
          "cinematography",
          "story",
          "story",
          "story",
          "music",
          "music",
          "music",
          "story",
          "acting",
          "acting",
          "cinematography",
          "cinematography",
          "cinematography",
          "story",
          "story",
          "direction",
          "direction",
          "direction",
          "acting",
          "acting",
          "",
          "",
          "",
          "",
          ""
         ],
         "type": "sunburst",
         "values": [
          5251,
          3094,
          1772,
          1102,
          1301,
          560,
          5256,
          8338,
          7668,
          879,
          1345,
          447,
          5241,
          71,
          329,
          5365,
          2010,
          2804,
          1424,
          701,
          173,
          5427,
          3066,
          3676,
          1355,
          962,
          1809,
          2532,
          555,
          23534,
          1672,
          3732,
          494,
          3202,
          556,
          867,
          297,
          6729,
          645,
          4476,
          593,
          1231,
          3718,
          7047,
          579,
          4337,
          36042,
          14798,
          16862,
          19686,
          50834
         ]
        }
       ],
       "layout": {
        "legend": {
         "tracegroupgap": 0
        },
        "margin": {
         "b": 25,
         "l": 25,
         "r": 25,
         "t": 25
        },
        "template": {
         "data": {
          "bar": [
           {
            "error_x": {
             "color": "#2a3f5f"
            },
            "error_y": {
             "color": "#2a3f5f"
            },
            "marker": {
             "line": {
              "color": "#E5ECF6",
              "width": 0.5
             },
             "pattern": {
              "fillmode": "overlay",
              "size": 10,
              "solidity": 0.2
             }
            },
            "type": "bar"
           }
          ],
          "barpolar": [
           {
            "marker": {
             "line": {
              "color": "#E5ECF6",
              "width": 0.5
             },
             "pattern": {
              "fillmode": "overlay",
              "size": 10,
              "solidity": 0.2
             }
            },
            "type": "barpolar"
           }
          ],
          "carpet": [
           {
            "aaxis": {
             "endlinecolor": "#2a3f5f",
             "gridcolor": "white",
             "linecolor": "white",
             "minorgridcolor": "white",
             "startlinecolor": "#2a3f5f"
            },
            "baxis": {
             "endlinecolor": "#2a3f5f",
             "gridcolor": "white",
             "linecolor": "white",
             "minorgridcolor": "white",
             "startlinecolor": "#2a3f5f"
            },
            "type": "carpet"
           }
          ],
          "choropleth": [
           {
            "colorbar": {
             "outlinewidth": 0,
             "ticks": ""
            },
            "type": "choropleth"
           }
          ],
          "contour": [
           {
            "colorbar": {
             "outlinewidth": 0,
             "ticks": ""
            },
            "colorscale": [
             [
              0,
              "#0d0887"
             ],
             [
              0.1111111111111111,
              "#46039f"
             ],
             [
              0.2222222222222222,
              "#7201a8"
             ],
             [
              0.3333333333333333,
              "#9c179e"
             ],
             [
              0.4444444444444444,
              "#bd3786"
             ],
             [
              0.5555555555555556,
              "#d8576b"
             ],
             [
              0.6666666666666666,
              "#ed7953"
             ],
             [
              0.7777777777777778,
              "#fb9f3a"
             ],
             [
              0.8888888888888888,
              "#fdca26"
             ],
             [
              1,
              "#f0f921"
             ]
            ],
            "type": "contour"
           }
          ],
          "contourcarpet": [
           {
            "colorbar": {
             "outlinewidth": 0,
             "ticks": ""
            },
            "type": "contourcarpet"
           }
          ],
          "heatmap": [
           {
            "colorbar": {
             "outlinewidth": 0,
             "ticks": ""
            },
            "colorscale": [
             [
              0,
              "#0d0887"
             ],
             [
              0.1111111111111111,
              "#46039f"
             ],
             [
              0.2222222222222222,
              "#7201a8"
             ],
             [
              0.3333333333333333,
              "#9c179e"
             ],
             [
              0.4444444444444444,
              "#bd3786"
             ],
             [
              0.5555555555555556,
              "#d8576b"
             ],
             [
              0.6666666666666666,
              "#ed7953"
             ],
             [
              0.7777777777777778,
              "#fb9f3a"
             ],
             [
              0.8888888888888888,
              "#fdca26"
             ],
             [
              1,
              "#f0f921"
             ]
            ],
            "type": "heatmap"
           }
          ],
          "heatmapgl": [
           {
            "colorbar": {
             "outlinewidth": 0,
             "ticks": ""
            },
            "colorscale": [
             [
              0,
              "#0d0887"
             ],
             [
              0.1111111111111111,
              "#46039f"
             ],
             [
              0.2222222222222222,
              "#7201a8"
             ],
             [
              0.3333333333333333,
              "#9c179e"
             ],
             [
              0.4444444444444444,
              "#bd3786"
             ],
             [
              0.5555555555555556,
              "#d8576b"
             ],
             [
              0.6666666666666666,
              "#ed7953"
             ],
             [
              0.7777777777777778,
              "#fb9f3a"
             ],
             [
              0.8888888888888888,
              "#fdca26"
             ],
             [
              1,
              "#f0f921"
             ]
            ],
            "type": "heatmapgl"
           }
          ],
          "histogram": [
           {
            "marker": {
             "pattern": {
              "fillmode": "overlay",
              "size": 10,
              "solidity": 0.2
             }
            },
            "type": "histogram"
           }
          ],
          "histogram2d": [
           {
            "colorbar": {
             "outlinewidth": 0,
             "ticks": ""
            },
            "colorscale": [
             [
              0,
              "#0d0887"
             ],
             [
              0.1111111111111111,
              "#46039f"
             ],
             [
              0.2222222222222222,
              "#7201a8"
             ],
             [
              0.3333333333333333,
              "#9c179e"
             ],
             [
              0.4444444444444444,
              "#bd3786"
             ],
             [
              0.5555555555555556,
              "#d8576b"
             ],
             [
              0.6666666666666666,
              "#ed7953"
             ],
             [
              0.7777777777777778,
              "#fb9f3a"
             ],
             [
              0.8888888888888888,
              "#fdca26"
             ],
             [
              1,
              "#f0f921"
             ]
            ],
            "type": "histogram2d"
           }
          ],
          "histogram2dcontour": [
           {
            "colorbar": {
             "outlinewidth": 0,
             "ticks": ""
            },
            "colorscale": [
             [
              0,
              "#0d0887"
             ],
             [
              0.1111111111111111,
              "#46039f"
             ],
             [
              0.2222222222222222,
              "#7201a8"
             ],
             [
              0.3333333333333333,
              "#9c179e"
             ],
             [
              0.4444444444444444,
              "#bd3786"
             ],
             [
              0.5555555555555556,
              "#d8576b"
             ],
             [
              0.6666666666666666,
              "#ed7953"
             ],
             [
              0.7777777777777778,
              "#fb9f3a"
             ],
             [
              0.8888888888888888,
              "#fdca26"
             ],
             [
              1,
              "#f0f921"
             ]
            ],
            "type": "histogram2dcontour"
           }
          ],
          "mesh3d": [
           {
            "colorbar": {
             "outlinewidth": 0,
             "ticks": ""
            },
            "type": "mesh3d"
           }
          ],
          "parcoords": [
           {
            "line": {
             "colorbar": {
              "outlinewidth": 0,
              "ticks": ""
             }
            },
            "type": "parcoords"
           }
          ],
          "pie": [
           {
            "automargin": true,
            "type": "pie"
           }
          ],
          "scatter": [
           {
            "fillpattern": {
             "fillmode": "overlay",
             "size": 10,
             "solidity": 0.2
            },
            "type": "scatter"
           }
          ],
          "scatter3d": [
           {
            "line": {
             "colorbar": {
              "outlinewidth": 0,
              "ticks": ""
             }
            },
            "marker": {
             "colorbar": {
              "outlinewidth": 0,
              "ticks": ""
             }
            },
            "type": "scatter3d"
           }
          ],
          "scattercarpet": [
           {
            "marker": {
             "colorbar": {
              "outlinewidth": 0,
              "ticks": ""
             }
            },
            "type": "scattercarpet"
           }
          ],
          "scattergeo": [
           {
            "marker": {
             "colorbar": {
              "outlinewidth": 0,
              "ticks": ""
             }
            },
            "type": "scattergeo"
           }
          ],
          "scattergl": [
           {
            "marker": {
             "colorbar": {
              "outlinewidth": 0,
              "ticks": ""
             }
            },
            "type": "scattergl"
           }
          ],
          "scattermapbox": [
           {
            "marker": {
             "colorbar": {
              "outlinewidth": 0,
              "ticks": ""
             }
            },
            "type": "scattermapbox"
           }
          ],
          "scatterpolar": [
           {
            "marker": {
             "colorbar": {
              "outlinewidth": 0,
              "ticks": ""
             }
            },
            "type": "scatterpolar"
           }
          ],
          "scatterpolargl": [
           {
            "marker": {
             "colorbar": {
              "outlinewidth": 0,
              "ticks": ""
             }
            },
            "type": "scatterpolargl"
           }
          ],
          "scatterternary": [
           {
            "marker": {
             "colorbar": {
              "outlinewidth": 0,
              "ticks": ""
             }
            },
            "type": "scatterternary"
           }
          ],
          "surface": [
           {
            "colorbar": {
             "outlinewidth": 0,
             "ticks": ""
            },
            "colorscale": [
             [
              0,
              "#0d0887"
             ],
             [
              0.1111111111111111,
              "#46039f"
             ],
             [
              0.2222222222222222,
              "#7201a8"
             ],
             [
              0.3333333333333333,
              "#9c179e"
             ],
             [
              0.4444444444444444,
              "#bd3786"
             ],
             [
              0.5555555555555556,
              "#d8576b"
             ],
             [
              0.6666666666666666,
              "#ed7953"
             ],
             [
              0.7777777777777778,
              "#fb9f3a"
             ],
             [
              0.8888888888888888,
              "#fdca26"
             ],
             [
              1,
              "#f0f921"
             ]
            ],
            "type": "surface"
           }
          ],
          "table": [
           {
            "cells": {
             "fill": {
              "color": "#EBF0F8"
             },
             "line": {
              "color": "white"
             }
            },
            "header": {
             "fill": {
              "color": "#C8D4E3"
             },
             "line": {
              "color": "white"
             }
            },
            "type": "table"
           }
          ]
         },
         "layout": {
          "annotationdefaults": {
           "arrowcolor": "#2a3f5f",
           "arrowhead": 0,
           "arrowwidth": 1
          },
          "autotypenumbers": "strict",
          "coloraxis": {
           "colorbar": {
            "outlinewidth": 0,
            "ticks": ""
           }
          },
          "colorscale": {
           "diverging": [
            [
             0,
             "#8e0152"
            ],
            [
             0.1,
             "#c51b7d"
            ],
            [
             0.2,
             "#de77ae"
            ],
            [
             0.3,
             "#f1b6da"
            ],
            [
             0.4,
             "#fde0ef"
            ],
            [
             0.5,
             "#f7f7f7"
            ],
            [
             0.6,
             "#e6f5d0"
            ],
            [
             0.7,
             "#b8e186"
            ],
            [
             0.8,
             "#7fbc41"
            ],
            [
             0.9,
             "#4d9221"
            ],
            [
             1,
             "#276419"
            ]
           ],
           "sequential": [
            [
             0,
             "#0d0887"
            ],
            [
             0.1111111111111111,
             "#46039f"
            ],
            [
             0.2222222222222222,
             "#7201a8"
            ],
            [
             0.3333333333333333,
             "#9c179e"
            ],
            [
             0.4444444444444444,
             "#bd3786"
            ],
            [
             0.5555555555555556,
             "#d8576b"
            ],
            [
             0.6666666666666666,
             "#ed7953"
            ],
            [
             0.7777777777777778,
             "#fb9f3a"
            ],
            [
             0.8888888888888888,
             "#fdca26"
            ],
            [
             1,
             "#f0f921"
            ]
           ],
           "sequentialminus": [
            [
             0,
             "#0d0887"
            ],
            [
             0.1111111111111111,
             "#46039f"
            ],
            [
             0.2222222222222222,
             "#7201a8"
            ],
            [
             0.3333333333333333,
             "#9c179e"
            ],
            [
             0.4444444444444444,
             "#bd3786"
            ],
            [
             0.5555555555555556,
             "#d8576b"
            ],
            [
             0.6666666666666666,
             "#ed7953"
            ],
            [
             0.7777777777777778,
             "#fb9f3a"
            ],
            [
             0.8888888888888888,
             "#fdca26"
            ],
            [
             1,
             "#f0f921"
            ]
           ]
          },
          "colorway": [
           "#636efa",
           "#EF553B",
           "#00cc96",
           "#ab63fa",
           "#FFA15A",
           "#19d3f3",
           "#FF6692",
           "#B6E880",
           "#FF97FF",
           "#FECB52"
          ],
          "font": {
           "color": "#2a3f5f"
          },
          "geo": {
           "bgcolor": "white",
           "lakecolor": "white",
           "landcolor": "#E5ECF6",
           "showlakes": true,
           "showland": true,
           "subunitcolor": "white"
          },
          "hoverlabel": {
           "align": "left"
          },
          "hovermode": "closest",
          "mapbox": {
           "style": "light"
          },
          "paper_bgcolor": "white",
          "plot_bgcolor": "#E5ECF6",
          "polar": {
           "angularaxis": {
            "gridcolor": "white",
            "linecolor": "white",
            "ticks": ""
           },
           "bgcolor": "#E5ECF6",
           "radialaxis": {
            "gridcolor": "white",
            "linecolor": "white",
            "ticks": ""
           }
          },
          "scene": {
           "xaxis": {
            "backgroundcolor": "#E5ECF6",
            "gridcolor": "white",
            "gridwidth": 2,
            "linecolor": "white",
            "showbackground": true,
            "ticks": "",
            "zerolinecolor": "white"
           },
           "yaxis": {
            "backgroundcolor": "#E5ECF6",
            "gridcolor": "white",
            "gridwidth": 2,
            "linecolor": "white",
            "showbackground": true,
            "ticks": "",
            "zerolinecolor": "white"
           },
           "zaxis": {
            "backgroundcolor": "#E5ECF6",
            "gridcolor": "white",
            "gridwidth": 2,
            "linecolor": "white",
            "showbackground": true,
            "ticks": "",
            "zerolinecolor": "white"
           }
          },
          "shapedefaults": {
           "line": {
            "color": "#2a3f5f"
           }
          },
          "ternary": {
           "aaxis": {
            "gridcolor": "white",
            "linecolor": "white",
            "ticks": ""
           },
           "baxis": {
            "gridcolor": "white",
            "linecolor": "white",
            "ticks": ""
           },
           "bgcolor": "#E5ECF6",
           "caxis": {
            "gridcolor": "white",
            "linecolor": "white",
            "ticks": ""
           }
          },
          "title": {
           "x": 0.05
          },
          "xaxis": {
           "automargin": true,
           "gridcolor": "white",
           "linecolor": "white",
           "ticks": "",
           "title": {
            "standoff": 15
           },
           "zerolinecolor": "white",
           "zerolinewidth": 2
          },
          "yaxis": {
           "automargin": true,
           "gridcolor": "white",
           "linecolor": "white",
           "ticks": "",
           "title": {
            "standoff": 15
           },
           "zerolinecolor": "white",
           "zerolinewidth": 2
          }
         }
        },
        "uniformtext": {
         "minsize": 10
        }
       }
      }
     },
     "metadata": {},
     "output_type": "display_data"
    }
   ],
   "source": [
    "import plotly.express as px\n",
    "\n",
    "# Create a sunburst plot using Plotly Express\n",
    "fig = px.sunburst(\n",
    "    df,\n",
    "    path=['Aspect', 'Word'],\n",
    "    values='Frequency',\n",
    "    color='Aspect',\n",
    ")\n",
    "\n",
    "# Styling\n",
    "fig.update_layout(\n",
    "    margin=dict(t=25, l=25, r=25, b=25),\n",
    "    uniformtext=dict(minsize=10)\n",
    ")\n",
    "\n",
    "fig.show()\n"
   ]
  },
  {
   "cell_type": "code",
   "execution_count": null,
   "metadata": {},
   "outputs": [],
   "source": [
    "# Function for generating a latex table for aspection vocabularies\n",
    "# Lists all words and corresponding frequencies\n",
    "# Additoinally lists total frequencies for each aspect\n",
    "\n",
    "def generate_latex_table_with_totals(aspect_data):\n",
    "\n",
    "    latex_str = r\"\"\"\n",
    "\\begin{table}[htbp]\n",
    "\\centering\n",
    "\\begin{tabular}{llcc}\n",
    "\\toprule\n",
    "\\textbf{Aspect} & \\textbf{Word} & \\textbf{Frequency} & \\textbf{Total} \\\\\n",
    "\\midrule\n",
    "\"\"\"\n",
    "\n",
    "    # Sort aspects for consistent order\n",
    "    all_aspects = sorted(aspect_data.keys())\n",
    "\n",
    "    for aspect in all_aspects:\n",
    "        words_freqs = aspect_data[aspect]\n",
    "        # Convert the dictionary items into a list\n",
    "        items = list(words_freqs.items())\n",
    "        row_count = len(items)\n",
    "\n",
    "        # Compute the sum of frequencies for this aspect\n",
    "        aspect_total = sum(words_freqs.values())\n",
    "\n",
    "        # First row in block, we print aspect name and the aspect total in the same row\n",
    "        first_word, first_freq = items[0]\n",
    "        latex_str += (\n",
    "            f\"\\\\multirow{{{row_count}}}{{*}}{{{aspect}}} & \"\n",
    "            f\"{first_word} & \"\n",
    "            f\"{first_freq} & \"\n",
    "            f\"\\\\multirow{{{row_count}}}{{*}}{{{aspect_total}}} \\\\\\\\ \\n\"\n",
    "        )\n",
    "\n",
    "        # Subsequent rows for this aspect\n",
    "        for j in range(1, row_count):\n",
    "            word, freq = items[j]\n",
    "            latex_str += f\"& {word} & {freq} & \\\\\\\\ \\n\"\n",
    "\n",
    "        # Add midrule after each aspect group\n",
    "        latex_str += r\"\\midrule\" + \"\\n\"\n",
    "\n",
    "    # Finish table\n",
    "    latex_str += r\"\"\"\\bottomrule\n",
    "\\end{tabular}\n",
    "\\caption{Vocabulary words, individual frequencies, and total frequencies per aspect.}\n",
    "\\label{tab:aspect-freq-totals}\n",
    "\\end{table}\n",
    "\"\"\"\n",
    "\n",
    "    return latex_str\n"
   ]
  },
  {
   "cell_type": "code",
   "execution_count": 188,
   "metadata": {},
   "outputs": [
    {
     "name": "stdout",
     "output_type": "stream",
     "text": [
      "\n",
      "\\begin{table}[htbp]\n",
      "\\centering\n",
      "\\begin{tabular}{llcc}\n",
      "\\toprule\n",
      "\\textbf{Aspect} & \\textbf{Word} & \\textbf{Frequency} & \\textbf{Total} \\\\\n",
      "\\midrule\n",
      "\\multirow{11}{*}{acting} & performance & 8338 & \\multirow{11}{*}{36042} \\\\ \n",
      "& performances & 7668 & \\\\ \n",
      "& cast & 4337 & \\\\ \n",
      "& actors & 3676 & \\\\ \n",
      "& chemistry & 867 & \\\\ \n",
      "& ensemble & 579 & \\\\ \n",
      "& casting & 556 & \\\\ \n",
      "& actor & 3066 & \\\\ \n",
      "& actress & 1355 & \\\\ \n",
      "& performer & 173 & \\\\ \n",
      "& acting & 5427 & \\\\ \n",
      "\\midrule\n",
      "\\multirow{10}{*}{cinematography} & visuals & 1809 & \\multirow{10}{*}{14798} \\\\ \n",
      "& imagery & 1345 & \\\\ \n",
      "& lighting & 1102 & \\\\ \n",
      "& camerawork & 962 & \\\\ \n",
      "& framing & 879 & \\\\ \n",
      "& photography & 701 & \\\\ \n",
      "& composition & 645 & \\\\ \n",
      "& scenery & 329 & \\\\ \n",
      "& choreography & 297 & \\\\ \n",
      "& cinematography & 6729 & \\\\ \n",
      "\\midrule\n",
      "\\multirow{5}{*}{direction} & filmmaking & 3094 & \\multirow{5}{*}{16862} \\\\ \n",
      "& directing & 1231 & \\\\ \n",
      "& director & 7047 & \\\\ \n",
      "& filmmaker & 1772 & \\\\ \n",
      "& direction & 3718 & \\\\ \n",
      "\\midrule\n",
      "\\multirow{8}{*}{music} & score & 5365 & \\multirow{8}{*}{19686} \\\\ \n",
      "& sound & 3732 & \\\\ \n",
      "& soundtrack & 1672 & \\\\ \n",
      "& song & 1424 & \\\\ \n",
      "& musical & 1301 & \\\\ \n",
      "& songs & 494 & \\\\ \n",
      "& piano & 447 & \\\\ \n",
      "& music & 5251 & \\\\ \n",
      "\\midrule\n",
      "\\multirow{12}{*}{story} & narrative & 5256 & \\multirow{12}{*}{50834} \\\\ \n",
      "& plot & 5241 & \\\\ \n",
      "& script & 2804 & \\\\ \n",
      "& storytelling & 2532 & \\\\ \n",
      "& screenplay & 2010 & \\\\ \n",
      "& storyline & 555 & \\\\ \n",
      "& dialogue & 4476 & \\\\ \n",
      "& writing & 3202 & \\\\ \n",
      "& dialogues & 593 & \\\\ \n",
      "& narration & 560 & \\\\ \n",
      "& plotline & 71 & \\\\ \n",
      "& story & 23534 & \\\\ \n",
      "\\midrule\n",
      "\\bottomrule\n",
      "\\end{tabular}\n",
      "\\caption{Vocabulary words, individual frequencies, and total frequencies per aspect.}\n",
      "\\label{tab:aspect-freq-totals}\n",
      "\\end{table}\n",
      "\n"
     ]
    }
   ],
   "source": [
    "# Print for copying into LaTeX\n",
    "print(generate_latex_table_with_totals(vocab_with_counts))"
   ]
  },
  {
   "cell_type": "markdown",
   "metadata": {},
   "source": [
    "## Sentiment Analysis"
   ]
  },
  {
   "cell_type": "markdown",
   "metadata": {},
   "source": [
    "Now we try to use our vocabs to detect aspects and associate sentiments. We use SpaCy and VADER for this."
   ]
  },
  {
   "cell_type": "code",
   "execution_count": null,
   "metadata": {},
   "outputs": [
    {
     "name": "stderr",
     "output_type": "stream",
     "text": [
      "[nltk_data] Downloading package vader_lexicon to\n",
      "[nltk_data]     /Users/thomasmayr/nltk_data...\n",
      "[nltk_data]   Package vader_lexicon is already up-to-date!\n"
     ]
    }
   ],
   "source": [
    "import spacy\n",
    "from nltk.sentiment.vader import SentimentIntensityAnalyzer\n",
    "import nltk\n",
    "\n",
    "nltk.download('vader_lexicon')\n",
    "\n",
    "nlp = spacy.load(\"en_core_web_lg\")\n",
    "sia = SentimentIntensityAnalyzer()"
   ]
  },
  {
   "cell_type": "code",
   "execution_count": 107,
   "metadata": {},
   "outputs": [],
   "source": [
    "def find_aspect_tokens(doc, aspect_dict):\n",
    "    \"\"\"\n",
    "    Return a list of (aspect_token, aspect_label) in the doc by matching spaCy tokens to the aspect dictionary.\n",
    "    \"\"\"\n",
    "    aspect_tokens = []\n",
    "    for token in doc:\n",
    "        token_lower = token.text.lower()\n",
    "        for aspect_label, keywords in aspect_dict.items():\n",
    "            if token_lower in keywords or token_lower == aspect_label:\n",
    "                aspect_tokens.append((token, aspect_label))\n",
    "    return aspect_tokens\n"
   ]
  },
  {
   "cell_type": "code",
   "execution_count": null,
   "metadata": {},
   "outputs": [],
   "source": [
    "def extract_opinion_phrase(aspect_token):\n",
    "    \"\"\"\n",
    "    Return a short text chunk (string) that includes:\n",
    "      - the aspect token itself\n",
    "      - any opinion words directly modifying it\n",
    "      - if the aspect token is the subject of a linking verb (e.g. 'are', 'is'), then look for so called adjectival complements of that verb.\n",
    "      - check for negations as well\n",
    "    \"\"\"\n",
    "    phrase_tokens = [aspect_token.text]\n",
    "\n",
    "    # Check immediate children for adjectives, adverbs, or negations\n",
    "    for child in aspect_token.children:\n",
    "        if child.pos_ in (\"ADJ\", \"ADV\"):\n",
    "            phrase_tokens.append(child.text)\n",
    "        if child.dep_ == \"neg\":\n",
    "            phrase_tokens.append(child.text)\n",
    "    \n",
    "    # Check the token’s head (= parent)\n",
    "    head = aspect_token.head\n",
    "    if head != aspect_token:\n",
    "        # If aspect is a subject (nsubj) of a verb (often a linking verb)\n",
    "        if aspect_token.dep_ == \"nsubj\":\n",
    "            # If the head is a linking verb (e.g., 'is', 'are')\n",
    "            # Look for adjectival complements of that verb\n",
    "            if head.lemma_ in {\"be\", \"seem\", \"appear\", \"become\", \"feel\"}:\n",
    "                # Check children of the head\n",
    "                for child in head.children:\n",
    "                    # Adjectival complement\n",
    "                    if child.dep_ == \"acomp\" and child.pos_ == \"ADJ\":\n",
    "                        phrase_tokens.append(child.text)\n",
    "                        # Also look for negations in the child's children\n",
    "                        for subchild in child.children:\n",
    "                            if subchild.dep_ == \"neg\":\n",
    "                                phrase_tokens.append(subchild.text)\n",
    "\n",
    "                    # Negation directly under head verb\n",
    "                    if child.dep_ == \"neg\":\n",
    "                        phrase_tokens.append(child.text)\n",
    "\n",
    "        # If the head is an ADJ/ADV describing the aspect (or a sentiment verb like \"love\"/\"hate\")\n",
    "        if head.pos_ in (\"ADJ\", \"ADV\"):\n",
    "            phrase_tokens.append(head.text)\n",
    "            for subchild in head.children:\n",
    "                if subchild.dep_ == \"neg\":\n",
    "                    phrase_tokens.append(subchild.text)\n",
    "\n",
    "        # If the head is a sentiment verb (e.g., \"love\", \"hate\")\n",
    "        if head.pos_ == \"VERB\" and head.lemma_.lower() in {\"love\", \"hate\", \"like\", \"dislike\", \"enjoy\"}:\n",
    "            phrase_tokens.append(head.text)\n",
    "            for subchild in head.children:\n",
    "                if subchild.dep_ == \"neg\":\n",
    "                    phrase_tokens.append(subchild.text)\n",
    "    \n",
    "    # Convert list to a single string\n",
    "    return \" \".join(phrase_tokens)\n"
   ]
  },
  {
   "cell_type": "code",
   "execution_count": null,
   "metadata": {},
   "outputs": [],
   "source": [
    "def analyze_aspects_vader_dependency(sentence, aspect_dict, sia):\n",
    "    doc = nlp(sentence)\n",
    "    \n",
    "    aspect_token_list = find_aspect_tokens(doc, aspect_dict)\n",
    "    \n",
    "    aspect_sentiments = {}\n",
    "    for aspect_token, aspect_label in aspect_token_list:\n",
    "        # Extract the local opinion phrase\n",
    "        opinion_chunk = extract_opinion_phrase(aspect_token)\n",
    "        \n",
    "        # Pass it to VADER\n",
    "        scores = sia.polarity_scores(opinion_chunk)\n",
    "        compound = scores['compound']\n",
    "        \n",
    "        # Determine polarity label from compound\n",
    "        if compound >= 0.05:\n",
    "            polarity = \"positive\"\n",
    "        elif compound <= -0.05:\n",
    "            polarity = \"negative\"\n",
    "        else:\n",
    "            polarity = \"neutral\"\n",
    "        \n",
    "        # Merge results if the aspect_label appears multiple times\n",
    "        if aspect_label in aspect_sentiments:\n",
    "            # For simplicity, if we see any \"negative\", override; \n",
    "            # else if we see \"positive\" and it was \"neutral\", override, etc.\n",
    "            existing = aspect_sentiments[aspect_label]\n",
    "            if existing == \"negative\" or polarity == \"negative\":\n",
    "                aspect_sentiments[aspect_label] = (\"negative\", compound)\n",
    "            elif existing == \"neutral\" and polarity == \"positive\":\n",
    "                aspect_sentiments[aspect_label] = (\"positive\", compound)\n",
    "            # else, keep the existing\n",
    "        else:\n",
    "            aspect_sentiments[aspect_label] = (polarity, compound)\n",
    "    \n",
    "    return aspect_sentiments\n"
   ]
  },
  {
   "cell_type": "markdown",
   "metadata": {},
   "source": [
    "In order to see the capabilities of our sentiment detector we examine a review on a sentence-level."
   ]
  },
  {
   "cell_type": "code",
   "execution_count": 120,
   "metadata": {},
   "outputs": [
    {
     "name": "stdout",
     "output_type": "stream",
     "text": [
      "Sentence: A brilliantly bleak portrait of capitalism, There Will Be Blood uses perfect performances to demonstrate that greed corrupts everyone, regardless of nobility or intentions.\n",
      "Aspect Sentiments: {'acting': ('positive', 0.5719)}\n",
      "---\n",
      "Sentence: Plainview is the quintessential capitalist — he’ll put up any moral front to trick people into supporting his endeavors, he screws over everyone if it means making more money, and he only wants to become wealthy for the hell of it.\n",
      "Aspect Sentiments: {}\n",
      "---\n",
      "Sentence: He’ll kill a man, destroy a town, and disown his own son to make an extra dime.\n",
      "Aspect Sentiments: {}\n",
      "---\n",
      "Sentence: And Anderson utilizes the perfect industry — oil drilling — for Plainview, as it’s incredibly dangerous for the boots on the ground, it absolutely destroys existing ecosystems, it disrupts communities, and it makes its investors very, very rich.\n",
      "Aspect Sentiments: {}\n",
      "---\n",
      "Sentence: I’m not sure if any other business model could better embody the horrors of capitalism.\n",
      "Aspect Sentiments: {}\n",
      "---\n",
      "Sentence: Daniel Day Lewis’ gradual descent into madness is the obvious highlight here, but I’m equally impressed with Paul Dano’s dual performances, as Eli falls farther than anyone else in this film, and is believable and emotional at every step of his journey.Every scene in There Will Be Blood is essential, though I’m not sure that each one is perfect.\n",
      "Aspect Sentiments: {'acting': ('neutral', 0.0)}\n",
      "---\n",
      "Sentence: The finale is one of the superlative examples of great acting, writing, and directing, and several other scenes hold similar power (Plainview’s “conversion,” Eli’s dinner table confrontation, Plainview’s final exchange with his son).\n",
      "Aspect Sentiments: {'acting': ('positive', 0.6249), 'story': ('neutral', 0.0), 'direction': ('neutral', 0.0)}\n",
      "---\n",
      "Sentence: But many of the other scenes drag on for longer than necessary, and I think the film would be equally effective if it were 15 minutes shorter.\n",
      "Aspect Sentiments: {}\n",
      "---\n",
      "Sentence: One of Anderson’s best, most coherent films, but definitely not one of my favorites.\n",
      "Aspect Sentiments: {}\n",
      "---\n"
     ]
    }
   ],
   "source": [
    "test_sentences = nltk.sent_tokenize(df['Review'][9999])\n",
    "\n",
    "for sentence in test_sentences:\n",
    "    result = analyze_aspects_vader_dependency(sentence, vocab, sia)\n",
    "    print(f\"Sentence: {sentence}\")\n",
    "    print(f\"Aspect Sentiments: {result}\")\n",
    "    print(\"---\")"
   ]
  },
  {
   "cell_type": "markdown",
   "metadata": {},
   "source": [
    "### Analysis on a review level rather than individual sentences"
   ]
  },
  {
   "cell_type": "markdown",
   "metadata": {},
   "source": [
    "Instead of individual sentences we are more interested in capturing aspect sentiment for the entire review."
   ]
  },
  {
   "cell_type": "code",
   "execution_count": null,
   "metadata": {},
   "outputs": [],
   "source": [
    "from collections import defaultdict\n",
    "\n",
    "def analyze_aspects_in_review(review_text, aspect_dict, sia):\n",
    "    \"\"\"\n",
    "    Analyze an entire review (which can be multiple sentences).\n",
    "    Returns a dict: {aspect_label: (polarity, avg_compound_score)}.\n",
    "    \n",
    "    - aspect_dict: dictionary mapping aspect labels to list of aspect keywords\n",
    "    - nlp: spaCy language model\n",
    "    - sia: VADER's SentimentIntensityAnalyzer instance\n",
    "    \"\"\"\n",
    "    # 1. Parse the entire review (not just a single sentence)\n",
    "    doc = nlp(review_text)\n",
    "\n",
    "    # 2. Find aspect tokens across the whole doc\n",
    "    aspect_token_list = find_aspect_tokens(doc, aspect_dict)\n",
    "    \n",
    "    # We'll store all compound scores for each aspect label\n",
    "    aspect_score_map = defaultdict(list)\n",
    "    \n",
    "    # 3. For each aspect token, extract the local opinion phrase and get VADER score\n",
    "    for aspect_token, aspect_label in aspect_token_list:\n",
    "        # Extract local opinion phrase around this aspect token\n",
    "        opinion_chunk = extract_opinion_phrase(aspect_token)\n",
    "        \n",
    "        # Use VADER on this chunk\n",
    "        scores = sia.polarity_scores(opinion_chunk)\n",
    "        compound = scores[\"compound\"]\n",
    "        \n",
    "        # Add the compound score to our tracking for this aspect_label\n",
    "        aspect_score_map[aspect_label].append(compound)\n",
    "    \n",
    "    # 4. Aggregate scores for each aspect\n",
    "    aspect_sentiments = {}\n",
    "    for aspect_label, compound_list in aspect_score_map.items():\n",
    "        if not compound_list:\n",
    "            # No actual scores for some reason (shouldn't happen unless no opinion found)\n",
    "            aspect_sentiments[aspect_label] = (\"neutral\", 0.0)\n",
    "        else:\n",
    "            # Average compound scores\n",
    "            avg_compound = sum(compound_list) / len(compound_list)\n",
    "            \n",
    "            # Turn the averaged score into a polarity label\n",
    "            if avg_compound >= 0.05:\n",
    "                polarity = \"positive\"\n",
    "            elif avg_compound <= -0.05:\n",
    "                polarity = \"negative\"\n",
    "            else:\n",
    "                polarity = \"neutral\"\n",
    "            \n",
    "            # Store final label + the average compound score\n",
    "            aspect_sentiments[aspect_label] = (polarity, avg_compound)\n",
    "    \n",
    "    return aspect_sentiments\n"
   ]
  },
  {
   "cell_type": "code",
   "execution_count": null,
   "metadata": {},
   "outputs": [
    {
     "name": "stdout",
     "output_type": "stream",
     "text": [
      "Sentence: this is the movie.this is the best crime movie, best mystery movie, best period drama, best noir movie, best comedy, best 70s movie, best original soundtrack, best original screenplay, and best acting. so much has already been said about its greatness so i’m just gonna talk about what it means to me personally. what makes this movie stand out is its message. it holds a greater, more powerful message than any other classic movie, the obvious one being that power is evil and the police are corrupt, but the more powerful message to me is: people often don’t understand or underestimate the trauma and depth a woman has under the surface. evelyn is painted as an evil, mysterious “femme fatale” who is hiding her infidelity and demise of her husband. what we don’t know until the end is that it was her own father who, not only killed her husband, but raped her when she was a child. every time her father is brought up she gets visibly uncomfortable. when jj asks her about katherine in the car, faye dunaway gives the most outstanding and painful performance i’ve ever seen. she opens her mouth, like she wants to say it but her body physically can’t. trauma is paralyzing. she asks jj to stay with her, in some last attempt for comfort after being left with an open wound. jj doesn’t understand, saying “i’m tired mrs mulwray,” leaving evelyn alone to finish her hysterics in her car. jj represents blissful ignorance and maybe a little bit of savior complex. he fucks up big time. he thinks he knows everything, he calls the police on evelyn knowing full well how fucked up they are, having experienced firsthand the consequences of its injustices. he went alone and unarmed to meet with noah cross personally just so he could tell him that he knows. then he literally brought the police straight to evelyn. he made a lot of smart decisions in the movie, but even the closest one to the truth can’t even begin to imagine the bigger problem underneath the surface.a slightly better review\n",
      "Aspect Sentiments: {'music': ('positive', 0.7579), 'story': ('positive', 0.7579), 'acting': ('positive', 0.62465)}\n",
      "---\n"
     ]
    }
   ],
   "source": [
    "# Let's see some output for an entire test review \n",
    "test_review = df['Review'][50000]\n",
    "\n",
    "result = analyze_aspects_in_review(test_review, vocab, sia)\n",
    "print(f\"Review: {test_review}\")\n",
    "print(f\"Aspect Sentiments: {result}\")\n",
    "print(\"---\")"
   ]
  },
  {
   "cell_type": "markdown",
   "metadata": {},
   "source": [
    "Now let's process our entire corpus of reviews (this takes a while)."
   ]
  },
  {
   "cell_type": "code",
   "execution_count": 137,
   "metadata": {},
   "outputs": [],
   "source": [
    "aspect_sentiments = []\n",
    "for review in df['Review']:\n",
    "    result = analyze_aspects_in_review(review, vocab, sia)\n",
    "    aspect_sentiments.append(result)"
   ]
  },
  {
   "cell_type": "code",
   "execution_count": null,
   "metadata": {},
   "outputs": [
    {
     "name": "stdout",
     "output_type": "stream",
     "text": [
      "Mentions: Counter({'story': 24901, 'acting': 19130, 'direction': 11953, 'music': 11884, 'cinematography': 10805})\n",
      "Avg sentiment: {'story': 0.05685221652402305, 'direction': 0.07294951815597542, 'music': 0.07449219633410609, 'cinematography': 0.1497486406789069, 'acting': 0.16015671368701406}\n"
     ]
    }
   ],
   "source": [
    "import collections\n",
    "\n",
    "aspect_counts = collections.Counter()\n",
    "aspect_sentiment_sums = collections.Counter()\n",
    "\n",
    "for review in aspect_sentiments:\n",
    "    for aspect, (label, score) in review.items():\n",
    "        aspect_counts[aspect] += 1\n",
    "        aspect_sentiment_sums[aspect] += score\n",
    "\n",
    "# Now we can compute average sentiment for each aspect for the entire corpus\n",
    "average_sentiment = {}\n",
    "for aspect in aspect_counts:\n",
    "    avg_score = aspect_sentiment_sums[aspect] / aspect_counts[aspect]\n",
    "    average_sentiment[aspect] = avg_score\n",
    "\n",
    "print(\"Mentions:\", aspect_counts)\n",
    "print(\"Avg sentiment:\", average_sentiment)\n"
   ]
  },
  {
   "cell_type": "markdown",
   "metadata": {},
   "source": [
    "### Visualisations"
   ]
  },
  {
   "cell_type": "code",
   "execution_count": null,
   "metadata": {},
   "outputs": [
    {
     "data": {
      "image/png": "[encoded data removed]",
      "text/plain": [
       "<Figure size 640x480 with 1 Axes>"
      ]
     },
     "metadata": {},
     "output_type": "display_data"
    }
   ],
   "source": [
    "import matplotlib.pyplot as plt\n",
    "\n",
    "aspects = list(aspect_counts.keys())\n",
    "counts = [aspect_counts[a] for a in aspects]\n",
    "\n",
    "plt.bar(aspects, counts)\n",
    "plt.ylabel(\"Count\")\n",
    "plt.xticks(rotation=45)\n",
    "plt.show()\n"
   ]
  },
  {
   "cell_type": "code",
   "execution_count": null,
   "metadata": {},
   "outputs": [
    {
     "data": {
      "image/png": "[encoded data removed]",
      "text/plain": [
       "<Figure size 640x480 with 1 Axes>"
      ]
     },
     "metadata": {},
     "output_type": "display_data"
    }
   ],
   "source": [
    "import matplotlib.pyplot as plt\n",
    "import seaborn as sns\n",
    "\n",
    "# Gather scores in a dict of lists\n",
    "scores_by_aspect = collections.defaultdict(list)\n",
    "\n",
    "for review in aspect_sentiments:\n",
    "    for aspect, (label, score) in review.items():\n",
    "        scores_by_aspect[aspect].append(score)\n",
    "\n",
    "# DataFrame for seaborn plotting\n",
    "import pandas as pd\n",
    "\n",
    "rows = []\n",
    "for aspect, score_list in scores_by_aspect.items():\n",
    "    for sc in score_list:\n",
    "        rows.append((aspect, sc))\n",
    "df_scores = pd.DataFrame(rows, columns=[\"Aspect\", \"Score\"])\n",
    "\n",
    "# Boxplot of scores by aspect\n",
    "sns.boxplot(data=df_scores, x=\"Aspect\", y=\"Score\")\n",
    "plt.xlabel(\"\")\n",
    "plt.xticks(rotation=45)\n",
    "plt.show()\n"
   ]
  },
  {
   "cell_type": "code",
   "execution_count": null,
   "metadata": {},
   "outputs": [],
   "source": [
    "from collections import defaultdict\n",
    "\n",
    "count_by_aspect = defaultdict(lambda: {'positive': 0, 'neutral': 0, 'negative': 0})\n",
    "\n",
    "for review in aspect_sentiments:\n",
    "    for aspect, (label, score) in review.items():\n",
    "        count_by_aspect[aspect][label] += 1\n"
   ]
  },
  {
   "cell_type": "code",
   "execution_count": null,
   "metadata": {},
   "outputs": [],
   "source": [
    "import matplotlib.pyplot as plt\n",
    "\n",
    "# Convert dictionary keys to list for plotting\n",
    "aspects = list(count_by_aspect.keys())\n",
    "positives = [count_by_aspect[a]['positive'] for a in aspects]\n",
    "neutrals  = [count_by_aspect[a]['neutral']  for a in aspects]\n",
    "negatives = [count_by_aspect[a]['negative'] for a in aspects]\n"
   ]
  },
  {
   "cell_type": "code",
   "execution_count": null,
   "metadata": {},
   "outputs": [
    {
     "data": {
      "image/png": "[encoded data removed]",
      "text/plain": [
       "<Figure size 800x500 with 1 Axes>"
      ]
     },
     "metadata": {},
     "output_type": "display_data"
    }
   ],
   "source": [
    "bar_width = 0.6\n",
    "fig, ax = plt.subplots(figsize=(8, 5))\n",
    "\n",
    "# Plot positive bars first (bottom = 0)\n",
    "ax.bar(aspects, positives, bar_width, label='Positive', color='tab:blue')\n",
    "\n",
    "# Plot negative bars on top of positives\n",
    "bottom_for_negatives = positives\n",
    "ax.bar(aspects, negatives, bar_width,\n",
    "       bottom=bottom_for_negatives,\n",
    "       label='Negative', color='tab:red')\n",
    "\n",
    "# Plot neutral bars on top of both positives and negatives\n",
    "bottom_for_neutrals = [p + n for p, n in zip(positives, negatives)]\n",
    "ax.bar(aspects, neutrals, bar_width,\n",
    "       bottom=bottom_for_neutrals,\n",
    "       label='Neutral', color='tab:gray')\n",
    "\n",
    "ax.set_ylabel('Count')\n",
    "ax.set_xticks(range(len(aspects)))\n",
    "ax.set_xticklabels(aspects, rotation=45)\n",
    "ax.legend()\n",
    "\n",
    "plt.tight_layout()\n",
    "plt.show()\n"
   ]
  }
 ],
 "metadata": {
  "kernelspec": {
   "display_name": "base",
   "language": "python",
   "name": "python3"
  },
  "language_info": {
   "codemirror_mode": {
    "name": "ipython",
    "version": 3
   },
   "file_extension": ".py",
   "mimetype": "text/x-python",
   "name": "python",
   "nbconvert_exporter": "python",
   "pygments_lexer": "ipython3",
   "version": "3.11.7"
  }
 },
 "nbformat": 4,
 "nbformat_minor": 2
}
